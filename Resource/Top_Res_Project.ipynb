{
 "cells": [
  {
   "cell_type": "code",
   "execution_count": 3,
   "metadata": {},
   "outputs": [
    {
     "data": {
      "text/html": [
       "<div>\n",
       "<style scoped>\n",
       "    .dataframe tbody tr th:only-of-type {\n",
       "        vertical-align: middle;\n",
       "    }\n",
       "\n",
       "    .dataframe tbody tr th {\n",
       "        vertical-align: top;\n",
       "    }\n",
       "\n",
       "    .dataframe thead th {\n",
       "        text-align: right;\n",
       "    }\n",
       "</style>\n",
       "<table border=\"1\" class=\"dataframe\">\n",
       "  <thead>\n",
       "    <tr style=\"text-align: right;\">\n",
       "      <th></th>\n",
       "      <th>year</th>\n",
       "      <th>rank</th>\n",
       "      <th>restaurant</th>\n",
       "      <th>location</th>\n",
       "      <th>country</th>\n",
       "      <th>lat</th>\n",
       "      <th>lng</th>\n",
       "    </tr>\n",
       "  </thead>\n",
       "  <tbody>\n",
       "    <tr>\n",
       "      <th>0</th>\n",
       "      <td>2002</td>\n",
       "      <td>1</td>\n",
       "      <td>El Bulli</td>\n",
       "      <td>Roses</td>\n",
       "      <td>Spain</td>\n",
       "      <td>42.263949</td>\n",
       "      <td>3.179553</td>\n",
       "    </tr>\n",
       "    <tr>\n",
       "      <th>1</th>\n",
       "      <td>2002</td>\n",
       "      <td>2</td>\n",
       "      <td>Restaurant Gordon Ramsay</td>\n",
       "      <td>London</td>\n",
       "      <td>United Kingdom</td>\n",
       "      <td>51.507218</td>\n",
       "      <td>-0.127586</td>\n",
       "    </tr>\n",
       "    <tr>\n",
       "      <th>2</th>\n",
       "      <td>2002</td>\n",
       "      <td>3</td>\n",
       "      <td>The French Laundry</td>\n",
       "      <td>Yountville</td>\n",
       "      <td>United States</td>\n",
       "      <td>38.401578</td>\n",
       "      <td>-122.360810</td>\n",
       "    </tr>\n",
       "    <tr>\n",
       "      <th>3</th>\n",
       "      <td>2002</td>\n",
       "      <td>4</td>\n",
       "      <td>Rockpool</td>\n",
       "      <td>Sydney</td>\n",
       "      <td>Australia</td>\n",
       "      <td>-33.868820</td>\n",
       "      <td>151.209295</td>\n",
       "    </tr>\n",
       "    <tr>\n",
       "      <th>4</th>\n",
       "      <td>2002</td>\n",
       "      <td>5</td>\n",
       "      <td>Spoon des Iles</td>\n",
       "      <td>Ile Maurice</td>\n",
       "      <td>Mauritius</td>\n",
       "      <td>-20.348404</td>\n",
       "      <td>57.552152</td>\n",
       "    </tr>\n",
       "    <tr>\n",
       "      <th>...</th>\n",
       "      <td>...</td>\n",
       "      <td>...</td>\n",
       "      <td>...</td>\n",
       "      <td>...</td>\n",
       "      <td>...</td>\n",
       "      <td>...</td>\n",
       "      <td>...</td>\n",
       "    </tr>\n",
       "    <tr>\n",
       "      <th>1045</th>\n",
       "      <td>2023</td>\n",
       "      <td>46</td>\n",
       "      <td>Orfali Bros Bistro</td>\n",
       "      <td>Dubai</td>\n",
       "      <td>United Arab Emirates</td>\n",
       "      <td>25.204849</td>\n",
       "      <td>55.270783</td>\n",
       "    </tr>\n",
       "    <tr>\n",
       "      <th>1046</th>\n",
       "      <td>2023</td>\n",
       "      <td>47</td>\n",
       "      <td>Mayta</td>\n",
       "      <td>Lima</td>\n",
       "      <td>Peru</td>\n",
       "      <td>-12.046689</td>\n",
       "      <td>-77.043088</td>\n",
       "    </tr>\n",
       "    <tr>\n",
       "      <th>1047</th>\n",
       "      <td>2023</td>\n",
       "      <td>48</td>\n",
       "      <td>La Grenouillère</td>\n",
       "      <td>La Madelaine-sous-Montreuil</td>\n",
       "      <td>France</td>\n",
       "      <td>50.466809</td>\n",
       "      <td>1.748056</td>\n",
       "    </tr>\n",
       "    <tr>\n",
       "      <th>1048</th>\n",
       "      <td>2023</td>\n",
       "      <td>49</td>\n",
       "      <td>Rosetta</td>\n",
       "      <td>Mexico City</td>\n",
       "      <td>Mexico</td>\n",
       "      <td>19.432608</td>\n",
       "      <td>-99.133208</td>\n",
       "    </tr>\n",
       "    <tr>\n",
       "      <th>1049</th>\n",
       "      <td>2023</td>\n",
       "      <td>50</td>\n",
       "      <td>The Chairman</td>\n",
       "      <td>Hong Kong</td>\n",
       "      <td>Hong Kong</td>\n",
       "      <td>22.319304</td>\n",
       "      <td>114.169361</td>\n",
       "    </tr>\n",
       "  </tbody>\n",
       "</table>\n",
       "<p>1050 rows × 7 columns</p>\n",
       "</div>"
      ],
      "text/plain": [
       "      year  rank                restaurant                     location  \\\n",
       "0     2002     1                  El Bulli                        Roses   \n",
       "1     2002     2  Restaurant Gordon Ramsay                       London   \n",
       "2     2002     3        The French Laundry                   Yountville   \n",
       "3     2002     4                  Rockpool                       Sydney   \n",
       "4     2002     5            Spoon des Iles                  Ile Maurice   \n",
       "...    ...   ...                       ...                          ...   \n",
       "1045  2023    46        Orfali Bros Bistro                        Dubai   \n",
       "1046  2023    47                     Mayta                         Lima   \n",
       "1047  2023    48           La Grenouillère  La Madelaine-sous-Montreuil   \n",
       "1048  2023    49                   Rosetta                  Mexico City   \n",
       "1049  2023    50              The Chairman                    Hong Kong   \n",
       "\n",
       "                   country        lat         lng  \n",
       "0                    Spain  42.263949    3.179553  \n",
       "1           United Kingdom  51.507218   -0.127586  \n",
       "2            United States  38.401578 -122.360810  \n",
       "3                Australia -33.868820  151.209295  \n",
       "4                Mauritius -20.348404   57.552152  \n",
       "...                    ...        ...         ...  \n",
       "1045  United Arab Emirates  25.204849   55.270783  \n",
       "1046                  Peru -12.046689  -77.043088  \n",
       "1047                France  50.466809    1.748056  \n",
       "1048                Mexico  19.432608  -99.133208  \n",
       "1049             Hong Kong  22.319304  114.169361  \n",
       "\n",
       "[1050 rows x 7 columns]"
      ]
     },
     "execution_count": 3,
     "metadata": {},
     "output_type": "execute_result"
    }
   ],
   "source": [
    "# Dependencies and Setup\n",
    "import matplotlib.pyplot as plt\n",
    "import pandas as pd\n",
    "from scipy.stats import linregress\n",
    "import numpy as np\n",
    "\n",
    "# Study data files\n",
    "Top_Res_Path = \"Data/WorldsBestRestaurants.csv\"\n",
    "\n",
    "# Read the Res data and the study results\n",
    "Top_Res_df = pd.read_csv(Top_Res_Path)\n",
    "Top_Res_df"
   ]
  },
  {
   "cell_type": "code",
   "execution_count": 6,
   "metadata": {},
   "outputs": [
    {
     "data": {
      "text/plain": [
       "257"
      ]
     },
     "execution_count": 6,
     "metadata": {},
     "output_type": "execute_result"
    }
   ],
   "source": [
    "# Checking the number of Restaurants.\n",
    "Restaurant_count = Top_Res_df ['restaurant'].nunique()\n",
    "Restaurant_count"
   ]
  },
  {
   "cell_type": "code",
   "execution_count": 7,
   "metadata": {},
   "outputs": [
    {
     "data": {
      "text/plain": [
       "42"
      ]
     },
     "execution_count": 7,
     "metadata": {},
     "output_type": "execute_result"
    }
   ],
   "source": [
    "# Checking the number of Countries.\n",
    "Country_count = Top_Res_df ['country'].nunique()\n",
    "Country_count"
   ]
  },
  {
   "cell_type": "code",
   "execution_count": 8,
   "metadata": {},
   "outputs": [
    {
     "data": {
      "text/plain": [
       "135"
      ]
     },
     "execution_count": 8,
     "metadata": {},
     "output_type": "execute_result"
    }
   ],
   "source": [
    "# Checking the number of Location.\n",
    "Location_count = Top_Res_df ['location'].nunique()\n",
    "Location_count"
   ]
  }
 ],
 "metadata": {
  "kernelspec": {
   "display_name": "dev",
   "language": "python",
   "name": "python3"
  },
  "language_info": {
   "codemirror_mode": {
    "name": "ipython",
    "version": 3
   },
   "file_extension": ".py",
   "mimetype": "text/x-python",
   "name": "python",
   "nbconvert_exporter": "python",
   "pygments_lexer": "ipython3",
   "version": "3.10.14"
  }
 },
 "nbformat": 4,
 "nbformat_minor": 2
}
