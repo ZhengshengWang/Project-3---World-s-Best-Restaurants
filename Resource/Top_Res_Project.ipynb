{
 "cells": [
  {
   "cell_type": "code",
   "execution_count": 1,
   "metadata": {},
   "outputs": [
    {
     "data": {
      "text/html": [
       "<div>\n",
       "<style scoped>\n",
       "    .dataframe tbody tr th:only-of-type {\n",
       "        vertical-align: middle;\n",
       "    }\n",
       "\n",
       "    .dataframe tbody tr th {\n",
       "        vertical-align: top;\n",
       "    }\n",
       "\n",
       "    .dataframe thead th {\n",
       "        text-align: right;\n",
       "    }\n",
       "</style>\n",
       "<table border=\"1\" class=\"dataframe\">\n",
       "  <thead>\n",
       "    <tr style=\"text-align: right;\">\n",
       "      <th></th>\n",
       "      <th>year</th>\n",
       "      <th>rank</th>\n",
       "      <th>restaurant</th>\n",
       "      <th>location</th>\n",
       "      <th>country</th>\n",
       "      <th>lat</th>\n",
       "      <th>lng</th>\n",
       "    </tr>\n",
       "  </thead>\n",
       "  <tbody>\n",
       "    <tr>\n",
       "      <th>0</th>\n",
       "      <td>2002</td>\n",
       "      <td>1</td>\n",
       "      <td>El Bulli</td>\n",
       "      <td>Roses</td>\n",
       "      <td>Spain</td>\n",
       "      <td>42.263949</td>\n",
       "      <td>3.179553</td>\n",
       "    </tr>\n",
       "    <tr>\n",
       "      <th>1</th>\n",
       "      <td>2002</td>\n",
       "      <td>2</td>\n",
       "      <td>Restaurant Gordon Ramsay</td>\n",
       "      <td>London</td>\n",
       "      <td>United Kingdom</td>\n",
       "      <td>51.507218</td>\n",
       "      <td>-0.127586</td>\n",
       "    </tr>\n",
       "    <tr>\n",
       "      <th>2</th>\n",
       "      <td>2002</td>\n",
       "      <td>3</td>\n",
       "      <td>The French Laundry</td>\n",
       "      <td>Yountville</td>\n",
       "      <td>United States</td>\n",
       "      <td>38.401578</td>\n",
       "      <td>-122.360810</td>\n",
       "    </tr>\n",
       "    <tr>\n",
       "      <th>3</th>\n",
       "      <td>2002</td>\n",
       "      <td>4</td>\n",
       "      <td>Rockpool</td>\n",
       "      <td>Sydney</td>\n",
       "      <td>Australia</td>\n",
       "      <td>-33.868820</td>\n",
       "      <td>151.209295</td>\n",
       "    </tr>\n",
       "    <tr>\n",
       "      <th>4</th>\n",
       "      <td>2002</td>\n",
       "      <td>5</td>\n",
       "      <td>Spoon des Iles</td>\n",
       "      <td>Ile Maurice</td>\n",
       "      <td>Mauritius</td>\n",
       "      <td>-20.348404</td>\n",
       "      <td>57.552152</td>\n",
       "    </tr>\n",
       "    <tr>\n",
       "      <th>...</th>\n",
       "      <td>...</td>\n",
       "      <td>...</td>\n",
       "      <td>...</td>\n",
       "      <td>...</td>\n",
       "      <td>...</td>\n",
       "      <td>...</td>\n",
       "      <td>...</td>\n",
       "    </tr>\n",
       "    <tr>\n",
       "      <th>1045</th>\n",
       "      <td>2023</td>\n",
       "      <td>46</td>\n",
       "      <td>Orfali Bros Bistro</td>\n",
       "      <td>Dubai</td>\n",
       "      <td>United Arab Emirates</td>\n",
       "      <td>25.204849</td>\n",
       "      <td>55.270783</td>\n",
       "    </tr>\n",
       "    <tr>\n",
       "      <th>1046</th>\n",
       "      <td>2023</td>\n",
       "      <td>47</td>\n",
       "      <td>Mayta</td>\n",
       "      <td>Lima</td>\n",
       "      <td>Peru</td>\n",
       "      <td>-12.046689</td>\n",
       "      <td>-77.043088</td>\n",
       "    </tr>\n",
       "    <tr>\n",
       "      <th>1047</th>\n",
       "      <td>2023</td>\n",
       "      <td>48</td>\n",
       "      <td>La Grenouillère</td>\n",
       "      <td>La Madelaine-sous-Montreuil</td>\n",
       "      <td>France</td>\n",
       "      <td>50.466809</td>\n",
       "      <td>1.748056</td>\n",
       "    </tr>\n",
       "    <tr>\n",
       "      <th>1048</th>\n",
       "      <td>2023</td>\n",
       "      <td>49</td>\n",
       "      <td>Rosetta</td>\n",
       "      <td>Mexico City</td>\n",
       "      <td>Mexico</td>\n",
       "      <td>19.432608</td>\n",
       "      <td>-99.133208</td>\n",
       "    </tr>\n",
       "    <tr>\n",
       "      <th>1049</th>\n",
       "      <td>2023</td>\n",
       "      <td>50</td>\n",
       "      <td>The Chairman</td>\n",
       "      <td>Hong Kong</td>\n",
       "      <td>Hong Kong</td>\n",
       "      <td>22.319304</td>\n",
       "      <td>114.169361</td>\n",
       "    </tr>\n",
       "  </tbody>\n",
       "</table>\n",
       "<p>1050 rows × 7 columns</p>\n",
       "</div>"
      ],
      "text/plain": [
       "      year  rank                restaurant                     location  \\\n",
       "0     2002     1                  El Bulli                        Roses   \n",
       "1     2002     2  Restaurant Gordon Ramsay                       London   \n",
       "2     2002     3        The French Laundry                   Yountville   \n",
       "3     2002     4                  Rockpool                       Sydney   \n",
       "4     2002     5            Spoon des Iles                  Ile Maurice   \n",
       "...    ...   ...                       ...                          ...   \n",
       "1045  2023    46        Orfali Bros Bistro                        Dubai   \n",
       "1046  2023    47                     Mayta                         Lima   \n",
       "1047  2023    48           La Grenouillère  La Madelaine-sous-Montreuil   \n",
       "1048  2023    49                   Rosetta                  Mexico City   \n",
       "1049  2023    50              The Chairman                    Hong Kong   \n",
       "\n",
       "                   country        lat         lng  \n",
       "0                    Spain  42.263949    3.179553  \n",
       "1           United Kingdom  51.507218   -0.127586  \n",
       "2            United States  38.401578 -122.360810  \n",
       "3                Australia -33.868820  151.209295  \n",
       "4                Mauritius -20.348404   57.552152  \n",
       "...                    ...        ...         ...  \n",
       "1045  United Arab Emirates  25.204849   55.270783  \n",
       "1046                  Peru -12.046689  -77.043088  \n",
       "1047                France  50.466809    1.748056  \n",
       "1048                Mexico  19.432608  -99.133208  \n",
       "1049             Hong Kong  22.319304  114.169361  \n",
       "\n",
       "[1050 rows x 7 columns]"
      ]
     },
     "execution_count": 1,
     "metadata": {},
     "output_type": "execute_result"
    }
   ],
   "source": [
    "# Dependencies and Setup\n",
    "import matplotlib.pyplot as plt\n",
    "import pandas as pd\n",
    "from scipy.stats import linregress\n",
    "import numpy as np\n",
    "import pprint\n",
    "import folium\n",
    "from folium.plugins import HeatMap\n",
    "import matplotlib.pyplot as plt\n",
    "import plotly.express as px\n",
    "# Study data files\n",
    "Top_Res_Path = \"WorldsBestRestaurants.csv\"\n",
    "\n",
    "# Read the Res data and the study results\n",
    "Top_Res_df = pd.read_csv(Top_Res_Path)\n",
    "Top_Res_df"
   ]
  },
  {
   "cell_type": "code",
   "execution_count": 2,
   "metadata": {},
   "outputs": [
    {
     "data": {
      "text/plain": [
       "257"
      ]
     },
     "execution_count": 2,
     "metadata": {},
     "output_type": "execute_result"
    }
   ],
   "source": [
    "# Checking the number of Restaurants.\n",
    "Restaurant_count = Top_Res_df ['restaurant'].nunique()\n",
    "Restaurant_count"
   ]
  },
  {
   "cell_type": "code",
   "execution_count": 3,
   "metadata": {},
   "outputs": [
    {
     "data": {
      "text/plain": [
       "42"
      ]
     },
     "execution_count": 3,
     "metadata": {},
     "output_type": "execute_result"
    }
   ],
   "source": [
    "# Checking the number of Countries.\n",
    "Country_count = Top_Res_df ['country'].nunique()\n",
    "Country_count"
   ]
  },
  {
   "cell_type": "code",
   "execution_count": 4,
   "metadata": {},
   "outputs": [
    {
     "data": {
      "text/plain": [
       "135"
      ]
     },
     "execution_count": 4,
     "metadata": {},
     "output_type": "execute_result"
    }
   ],
   "source": [
    "# Checking the number of Location.\n",
    "Location_count = Top_Res_df ['location'].nunique()\n",
    "Location_count"
   ]
  },
  {
   "cell_type": "code",
   "execution_count": 5,
   "metadata": {},
   "outputs": [
    {
     "name": "stdout",
     "output_type": "stream",
     "text": [
      "Spain, United Kingdom, United States, Australia, Mauritius, France, Argentina, Canada, India, United Arab Emirates, Hong Kong, Sweden, Japan, Italy, Barbados, Switzerland, Thailand, Monaco, Türkiye, South Africa, Ireland, Netherlands, Iceland, Hungary, Kenya, Norway, Germany, Belgium, Estonia, Denmark, Finland, Brazil, Austria, Singapore, Mexico, Peru, Russia, Portugal, China, Chile, Slovenia, Colombia\n"
     ]
    }
   ],
   "source": [
    "unique_country = Top_Res_df ['country'].unique()\n",
    "print(', '.join(unique_country))\n"
   ]
  },
  {
   "cell_type": "code",
   "execution_count": 6,
   "metadata": {},
   "outputs": [],
   "source": [
    "#Here is the countries list:\n",
    "#Spain, United Kingdom, United States, Australia, Mauritius, France, Argentina, Canada, India, \n",
    "#United Arab Emirates, Hong Kong, Sweden, Japan, Italy, Barbados, Switzerland, Thailand, Monaco, \n",
    "#Türkiye, South Africa, Ireland, Netherlands, Iceland, Hungary, Kenya, Norway, Germany, Belgium, \n",
    "#Estonia, Denmark, Finland, Brazil, Austria, Singapore, Mexico, Peru, \n",
    "#Russia, Portugal, China, Chile, Slovenia, Colombia"
   ]
  },
  {
   "cell_type": "code",
   "execution_count": 7,
   "metadata": {},
   "outputs": [],
   "source": [
    "region_map= {\n",
    "    'Africa': ['Kenya', 'Mauritius', 'South Africa'],\n",
    "    'Asia': ['China', 'Hong Kong', 'India', 'Japan', 'Singapore', 'Thailand', 'United Arab Emirates', 'Türkiye', 'Russia'],\n",
    "    'Australia': ['Australia'],\n",
    "    'Europe': ['Austria', 'Belgium', 'Denmark', 'Estonia', 'Finland', 'France', 'Germany', 'Hungary', 'Iceland', 'Ireland', 'Italy', 'Monaco', 'Netherlands', 'Norway', 'Portugal', 'Slovenia', 'Spain', 'Sweden', 'Switzerland', 'United Kingdom'],\n",
    "    'North America': ['Canada', 'Mexico', 'United States'],\n",
    "    'South America': ['Argentina', 'Brazil', 'Chile', 'Colombia', 'Peru']\n",
    "    }"
   ]
  },
  {
   "cell_type": "code",
   "execution_count": 8,
   "metadata": {},
   "outputs": [],
   "source": [
    "regions = []\n",
    "\n",
    "\n",
    "for country in Top_Res_df['country']:\n",
    "        region = next((key for key, countries in region_map.items() if country in countries),None)\n",
    "        regions.append(region)\n",
    "\n",
    "\n",
    "Top_Res_df['Region'] = regions"
   ]
  },
  {
   "cell_type": "code",
   "execution_count": 9,
   "metadata": {},
   "outputs": [],
   "source": [
    "Top_Res_df.head()\n",
    "Top_Res_df.to_csv('cleaned_Res.csv', index=False)"
   ]
  },
  {
   "cell_type": "code",
   "execution_count": 10,
   "metadata": {},
   "outputs": [
    {
     "data": {
      "text/html": [
       "<div>\n",
       "<style scoped>\n",
       "    .dataframe tbody tr th:only-of-type {\n",
       "        vertical-align: middle;\n",
       "    }\n",
       "\n",
       "    .dataframe tbody tr th {\n",
       "        vertical-align: top;\n",
       "    }\n",
       "\n",
       "    .dataframe thead th {\n",
       "        text-align: right;\n",
       "    }\n",
       "</style>\n",
       "<table border=\"1\" class=\"dataframe\">\n",
       "  <thead>\n",
       "    <tr style=\"text-align: right;\">\n",
       "      <th></th>\n",
       "      <th>year</th>\n",
       "      <th>rank</th>\n",
       "      <th>restaurant</th>\n",
       "      <th>location</th>\n",
       "      <th>country</th>\n",
       "      <th>lat</th>\n",
       "      <th>lng</th>\n",
       "      <th>Region</th>\n",
       "    </tr>\n",
       "  </thead>\n",
       "  <tbody>\n",
       "    <tr>\n",
       "      <th>0</th>\n",
       "      <td>2002</td>\n",
       "      <td>1</td>\n",
       "      <td>El Bulli</td>\n",
       "      <td>Roses</td>\n",
       "      <td>Spain</td>\n",
       "      <td>42.263949</td>\n",
       "      <td>3.179553</td>\n",
       "      <td>Europe</td>\n",
       "    </tr>\n",
       "    <tr>\n",
       "      <th>1</th>\n",
       "      <td>2002</td>\n",
       "      <td>2</td>\n",
       "      <td>Restaurant Gordon Ramsay</td>\n",
       "      <td>London</td>\n",
       "      <td>United Kingdom</td>\n",
       "      <td>51.507218</td>\n",
       "      <td>-0.127586</td>\n",
       "      <td>Europe</td>\n",
       "    </tr>\n",
       "    <tr>\n",
       "      <th>2</th>\n",
       "      <td>2002</td>\n",
       "      <td>3</td>\n",
       "      <td>The French Laundry</td>\n",
       "      <td>Yountville</td>\n",
       "      <td>United States</td>\n",
       "      <td>38.401578</td>\n",
       "      <td>-122.360810</td>\n",
       "      <td>North America</td>\n",
       "    </tr>\n",
       "    <tr>\n",
       "      <th>3</th>\n",
       "      <td>2002</td>\n",
       "      <td>4</td>\n",
       "      <td>Rockpool</td>\n",
       "      <td>Sydney</td>\n",
       "      <td>Australia</td>\n",
       "      <td>-33.868820</td>\n",
       "      <td>151.209295</td>\n",
       "      <td>Australia</td>\n",
       "    </tr>\n",
       "    <tr>\n",
       "      <th>4</th>\n",
       "      <td>2002</td>\n",
       "      <td>5</td>\n",
       "      <td>Spoon des Iles</td>\n",
       "      <td>Ile Maurice</td>\n",
       "      <td>Mauritius</td>\n",
       "      <td>-20.348404</td>\n",
       "      <td>57.552152</td>\n",
       "      <td>Africa</td>\n",
       "    </tr>\n",
       "    <tr>\n",
       "      <th>...</th>\n",
       "      <td>...</td>\n",
       "      <td>...</td>\n",
       "      <td>...</td>\n",
       "      <td>...</td>\n",
       "      <td>...</td>\n",
       "      <td>...</td>\n",
       "      <td>...</td>\n",
       "      <td>...</td>\n",
       "    </tr>\n",
       "    <tr>\n",
       "      <th>252</th>\n",
       "      <td>2023</td>\n",
       "      <td>36</td>\n",
       "      <td>Plénitude</td>\n",
       "      <td>Paris</td>\n",
       "      <td>France</td>\n",
       "      <td>48.857548</td>\n",
       "      <td>2.351377</td>\n",
       "      <td>Europe</td>\n",
       "    </tr>\n",
       "    <tr>\n",
       "      <th>253</th>\n",
       "      <td>2023</td>\n",
       "      <td>37</td>\n",
       "      <td>Sézanne</td>\n",
       "      <td>Tokyo</td>\n",
       "      <td>Japan</td>\n",
       "      <td>35.676423</td>\n",
       "      <td>139.650027</td>\n",
       "      <td>Asia</td>\n",
       "    </tr>\n",
       "    <tr>\n",
       "      <th>254</th>\n",
       "      <td>2023</td>\n",
       "      <td>46</td>\n",
       "      <td>Orfali Bros Bistro</td>\n",
       "      <td>Dubai</td>\n",
       "      <td>United Arab Emirates</td>\n",
       "      <td>25.204849</td>\n",
       "      <td>55.270783</td>\n",
       "      <td>Asia</td>\n",
       "    </tr>\n",
       "    <tr>\n",
       "      <th>255</th>\n",
       "      <td>2023</td>\n",
       "      <td>48</td>\n",
       "      <td>La Grenouillère</td>\n",
       "      <td>La Madelaine-sous-Montreuil</td>\n",
       "      <td>France</td>\n",
       "      <td>50.466809</td>\n",
       "      <td>1.748056</td>\n",
       "      <td>Europe</td>\n",
       "    </tr>\n",
       "    <tr>\n",
       "      <th>256</th>\n",
       "      <td>2023</td>\n",
       "      <td>49</td>\n",
       "      <td>Rosetta</td>\n",
       "      <td>Mexico City</td>\n",
       "      <td>Mexico</td>\n",
       "      <td>19.432608</td>\n",
       "      <td>-99.133208</td>\n",
       "      <td>North America</td>\n",
       "    </tr>\n",
       "  </tbody>\n",
       "</table>\n",
       "<p>257 rows × 8 columns</p>\n",
       "</div>"
      ],
      "text/plain": [
       "     year  rank                restaurant                     location  \\\n",
       "0    2002     1                  El Bulli                        Roses   \n",
       "1    2002     2  Restaurant Gordon Ramsay                       London   \n",
       "2    2002     3        The French Laundry                   Yountville   \n",
       "3    2002     4                  Rockpool                       Sydney   \n",
       "4    2002     5            Spoon des Iles                  Ile Maurice   \n",
       "..    ...   ...                       ...                          ...   \n",
       "252  2023    36                 Plénitude                        Paris   \n",
       "253  2023    37                   Sézanne                        Tokyo   \n",
       "254  2023    46        Orfali Bros Bistro                        Dubai   \n",
       "255  2023    48           La Grenouillère  La Madelaine-sous-Montreuil   \n",
       "256  2023    49                   Rosetta                  Mexico City   \n",
       "\n",
       "                  country        lat         lng         Region  \n",
       "0                   Spain  42.263949    3.179553         Europe  \n",
       "1          United Kingdom  51.507218   -0.127586         Europe  \n",
       "2           United States  38.401578 -122.360810  North America  \n",
       "3               Australia -33.868820  151.209295      Australia  \n",
       "4               Mauritius -20.348404   57.552152         Africa  \n",
       "..                    ...        ...         ...            ...  \n",
       "252                France  48.857548    2.351377         Europe  \n",
       "253                 Japan  35.676423  139.650027           Asia  \n",
       "254  United Arab Emirates  25.204849   55.270783           Asia  \n",
       "255                France  50.466809    1.748056         Europe  \n",
       "256                Mexico  19.432608  -99.133208  North America  \n",
       "\n",
       "[257 rows x 8 columns]"
      ]
     },
     "execution_count": 10,
     "metadata": {},
     "output_type": "execute_result"
    }
   ],
   "source": [
    "unique_res = Top_Res_df.drop_duplicates(subset='restaurant', keep='first')\n",
    "unique_res.reset_index(drop=True, inplace=True)\n",
    "unique_res"
   ]
  },
  {
   "cell_type": "code",
   "execution_count": 11,
   "metadata": {},
   "outputs": [],
   "source": [
    "heatmap_center = [unique_res['lat'].mean(), unique_res['lng'].mean()]\n",
    "res_heatmap = folium.Map(location=heatmap_center,zoom_start=2)\n",
    "heat_data = unique_res[['lat', 'lng']].values.tolist()\n",
    "HeatMap(heat_data).add_to(res_heatmap)\n",
    "res_heatmap.save('Top_rated_restaurant_Heatmap.html')\n"
   ]
  },
  {
   "cell_type": "code",
   "execution_count": 12,
   "metadata": {},
   "outputs": [
    {
     "data": {
      "text/html": [
       "<div>\n",
       "<style scoped>\n",
       "    .dataframe tbody tr th:only-of-type {\n",
       "        vertical-align: middle;\n",
       "    }\n",
       "\n",
       "    .dataframe tbody tr th {\n",
       "        vertical-align: top;\n",
       "    }\n",
       "\n",
       "    .dataframe thead th {\n",
       "        text-align: right;\n",
       "    }\n",
       "</style>\n",
       "<table border=\"1\" class=\"dataframe\">\n",
       "  <thead>\n",
       "    <tr style=\"text-align: right;\">\n",
       "      <th></th>\n",
       "      <th>restaurant</th>\n",
       "      <th>count</th>\n",
       "      <th>Region</th>\n",
       "    </tr>\n",
       "  </thead>\n",
       "  <tbody>\n",
       "    <tr>\n",
       "      <th>0</th>\n",
       "      <td>Mugaritz</td>\n",
       "      <td>17</td>\n",
       "      <td>Europe</td>\n",
       "    </tr>\n",
       "    <tr>\n",
       "      <th>1</th>\n",
       "      <td>Arpège</td>\n",
       "      <td>17</td>\n",
       "      <td>Europe</td>\n",
       "    </tr>\n",
       "    <tr>\n",
       "      <th>2</th>\n",
       "      <td>Le Calandre</td>\n",
       "      <td>17</td>\n",
       "      <td>Europe</td>\n",
       "    </tr>\n",
       "    <tr>\n",
       "      <th>3</th>\n",
       "      <td>Le Bernardin</td>\n",
       "      <td>17</td>\n",
       "      <td>North America</td>\n",
       "    </tr>\n",
       "    <tr>\n",
       "      <th>4</th>\n",
       "      <td>Arzak</td>\n",
       "      <td>16</td>\n",
       "      <td>Europe</td>\n",
       "    </tr>\n",
       "  </tbody>\n",
       "</table>\n",
       "</div>"
      ],
      "text/plain": [
       "     restaurant  count         Region\n",
       "0      Mugaritz     17         Europe\n",
       "1        Arpège     17         Europe\n",
       "2   Le Calandre     17         Europe\n",
       "3  Le Bernardin     17  North America\n",
       "4         Arzak     16         Europe"
      ]
     },
     "execution_count": 12,
     "metadata": {},
     "output_type": "execute_result"
    }
   ],
   "source": [
    "res_repeat = 'RestaurantRepeatRanking.csv'\n",
    "cleaned_res = 'cleaned_Res.csv'\n",
    "res_repeat = pd.read_csv(res_repeat)\n",
    "cleaned_res = pd.read_csv(cleaned_res)\n",
    "\n",
    "# Performing a left join on the 'restaurant' column to add the 'Region' to the repeat ranking data\n",
    "merged = pd.merge(res_repeat, cleaned_res[['restaurant', 'Region']], on='restaurant', how='left')\n",
    "\n",
    "# Removing duplicate restaurant names and resetting the index\n",
    "merged = merged.drop_duplicates(subset='restaurant').reset_index(drop=True)\n",
    "\n",
    "\n",
    "# Display the first few rows of the merged dataset with reset index\n",
    "merged.head()\n"
   ]
  },
  {
   "cell_type": "code",
   "execution_count": 13,
   "metadata": {},
   "outputs": [
    {
     "data": {
      "application/vnd.plotly.v1+json": {
       "config": {
        "plotlyServerURL": "https://plot.ly"
       },
       "data": [
        {
         "alignmentgroup": "True",
         "hovertemplate": "<b>%{hovertext}</b><br><br>Region=Europe<br>Restaurant=%{x}<br>Repeat Count=%{y}<extra></extra>",
         "hovertext": [
          "Mugaritz",
          "Arpège",
          "Le Calandre",
          "Arzak",
          "Steirereck",
          "Asador Etxebarri",
          "El Celler de Can Roca",
          "Noma",
          "The Fat Duck",
          "Schloss Schauenstein",
          "L'Astrance",
          "Pierre Gagnaire",
          "L'Atelier Saint Germain De Joël Robuchon",
          "Vendôme",
          "Osteria Francescana",
          "Piazza Duomo",
          "Geranium",
          "El Bulli",
          "Mirazur",
          "St John",
          "Hof van Cleve",
          "Dal Pescatore",
          "Alain Ducasse au Plaza Athénée",
          "The Ledbury",
          "Oud Sluis",
          "Septime",
          "Dinner by Heston Blumenthal",
          "Le Louis XV",
          "Restaurant Gordon Ramsay",
          "Nobu",
          "Le Chateaubriand",
          "Azurmendi",
          "De Librije",
          "The Clove Club",
          "Restaurant Tim Raue",
          "Quique Dacosta",
          "Chez Dominique",
          "Martin Berasategui",
          "Hakkasan",
          "Bras",
          "Aqua",
          "Le Gavroche",
          "Fäviken",
          "Troisgros",
          "Disfrutar",
          "Tickets",
          "Die Schwarzaldstube",
          "Can Fabes",
          "Combal Zero",
          "Hiša Franko",
          "Gambero Rosso",
          "Oaxen Krog",
          "Enoteca Pinchiorri",
          "Reale",
          "Elkano",
          "Frantzén",
          "Restaurant Frantzén",
          "Hof Van Cleve",
          "Le Cinq",
          "Alléno Paris au Pavillon Ledoyen",
          "River Café",
          "L'Auberge de l'Ill",
          "The Ivy",
          "L'Ambroisie",
          "Belcanto",
          "Nobelhart & Schmutzig",
          "Ristorante Cracco",
          "Tantris",
          "L'Hotel de Ville - Philippe Rochat",
          "Les Ambassadeurs",
          "De Karmeliet",
          "Lyle's",
          "Vila Joya",
          "The Merchant House",
          "Relae",
          "Guy Savoy",
          "Il Canto",
          "Lido 84",
          "Le Meurice",
          "Maaemo",
          "Le Jardin des Sens",
          "The Three Chimneys",
          "La Tupina",
          "Operakällaren",
          "Bras Restaurant",
          "The Wolseley",
          "Dieter Mueller",
          "Alain Ducasse",
          "Michel Bras",
          "Ikoyi",
          "The Waterside Inn",
          "Comme Chez Soi",
          "Alchemist",
          "Uliassi",
          "Mathias Dhalgren",
          "Bagatelle",
          "Diverxo",
          "Le Manoir aux Quat'Saisons",
          "The Jane",
          "Maison Troisgros",
          "Bocuse",
          "Checchino Dal 1887",
          "The Square",
          "Hibiscus",
          "Plénitude",
          "DiverXO",
          "La Grenouillère",
          "St. Hubertus",
          "Nerua Guggenheim Bilbao",
          "Table by Bruno Verjus",
          "Le Clarence",
          "Jordnær",
          "Kol",
          "Taillevent",
          "Moulin de Mougin",
          "Paul Boscoe",
          "Gidleigh Park",
          "Bocca",
          "The Grundel",
          "Blue Lagoon",
          "The Supper Club",
          "Roundwood House",
          "Hotel de Paris",
          "Le Manoir aux Quat'Saison",
          "Kronenhalle",
          "Chez Vroney",
          "Alle Testiere",
          "La Coupole",
          "Thorton's",
          "Petrus",
          "Martín Berasategui",
          "Combal.Zero",
          "Frantzén/Lindeberg",
          "Mathias Dahlgren",
          "Restaurant de l'Hotel de Ville ",
          "Cracco Peck",
          "Yauatcha",
          "Cal Pep",
          "Quattro Passi",
          "The Connaught",
          "L'Hotel de Ville",
          "Sketch",
          "Tom Aikens",
          "Gambero Roso",
          "Le Maison de Marc Veyrat",
          "La Tour D'Argent",
          "L'Ami Louis"
         ],
         "legendgroup": "Europe",
         "marker": {
          "color": "#636efa",
          "pattern": {
           "shape": ""
          }
         },
         "name": "Europe",
         "offsetgroup": "Europe",
         "orientation": "v",
         "showlegend": true,
         "textposition": "auto",
         "type": "bar",
         "x": [
          "Mugaritz",
          "Arpège",
          "Le Calandre",
          "Arzak",
          "Steirereck",
          "Asador Etxebarri",
          "El Celler de Can Roca",
          "Noma",
          "The Fat Duck",
          "Schloss Schauenstein",
          "L'Astrance",
          "Pierre Gagnaire",
          "L'Atelier Saint Germain De Joël Robuchon",
          "Vendôme",
          "Osteria Francescana",
          "Piazza Duomo",
          "Geranium",
          "El Bulli",
          "Mirazur",
          "St John",
          "Hof van Cleve",
          "Dal Pescatore",
          "Alain Ducasse au Plaza Athénée",
          "The Ledbury",
          "Oud Sluis",
          "Septime",
          "Dinner by Heston Blumenthal",
          "Le Louis XV",
          "Restaurant Gordon Ramsay",
          "Nobu",
          "Le Chateaubriand",
          "Azurmendi",
          "De Librije",
          "The Clove Club",
          "Restaurant Tim Raue",
          "Quique Dacosta",
          "Chez Dominique",
          "Martin Berasategui",
          "Hakkasan",
          "Bras",
          "Aqua",
          "Le Gavroche",
          "Fäviken",
          "Troisgros",
          "Disfrutar",
          "Tickets",
          "Die Schwarzaldstube",
          "Can Fabes",
          "Combal Zero",
          "Hiša Franko",
          "Gambero Rosso",
          "Oaxen Krog",
          "Enoteca Pinchiorri",
          "Reale",
          "Elkano",
          "Frantzén",
          "Restaurant Frantzén",
          "Hof Van Cleve",
          "Le Cinq",
          "Alléno Paris au Pavillon Ledoyen",
          "River Café",
          "L'Auberge de l'Ill",
          "The Ivy",
          "L'Ambroisie",
          "Belcanto",
          "Nobelhart & Schmutzig",
          "Ristorante Cracco",
          "Tantris",
          "L'Hotel de Ville - Philippe Rochat",
          "Les Ambassadeurs",
          "De Karmeliet",
          "Lyle's",
          "Vila Joya",
          "The Merchant House",
          "Relae",
          "Guy Savoy",
          "Il Canto",
          "Lido 84",
          "Le Meurice",
          "Maaemo",
          "Le Jardin des Sens",
          "The Three Chimneys",
          "La Tupina",
          "Operakällaren",
          "Bras Restaurant",
          "The Wolseley",
          "Dieter Mueller",
          "Alain Ducasse",
          "Michel Bras",
          "Ikoyi",
          "The Waterside Inn",
          "Comme Chez Soi",
          "Alchemist",
          "Uliassi",
          "Mathias Dhalgren",
          "Bagatelle",
          "Diverxo",
          "Le Manoir aux Quat'Saisons",
          "The Jane",
          "Maison Troisgros",
          "Bocuse",
          "Checchino Dal 1887",
          "The Square",
          "Hibiscus",
          "Plénitude",
          "DiverXO",
          "La Grenouillère",
          "St. Hubertus",
          "Nerua Guggenheim Bilbao",
          "Table by Bruno Verjus",
          "Le Clarence",
          "Jordnær",
          "Kol",
          "Taillevent",
          "Moulin de Mougin",
          "Paul Boscoe",
          "Gidleigh Park",
          "Bocca",
          "The Grundel",
          "Blue Lagoon",
          "The Supper Club",
          "Roundwood House",
          "Hotel de Paris",
          "Le Manoir aux Quat'Saison",
          "Kronenhalle",
          "Chez Vroney",
          "Alle Testiere",
          "La Coupole",
          "Thorton's",
          "Petrus",
          "Martín Berasategui",
          "Combal.Zero",
          "Frantzén/Lindeberg",
          "Mathias Dahlgren",
          "Restaurant de l'Hotel de Ville ",
          "Cracco Peck",
          "Yauatcha",
          "Cal Pep",
          "Quattro Passi",
          "The Connaught",
          "L'Hotel de Ville",
          "Sketch",
          "Tom Aikens",
          "Gambero Roso",
          "Le Maison de Marc Veyrat",
          "La Tour D'Argent",
          "L'Ami Louis"
         ],
         "xaxis": "x",
         "y": [
          17,
          17,
          17,
          16,
          14,
          14,
          13,
          13,
          11,
          11,
          11,
          10,
          10,
          10,
          10,
          10,
          9,
          9,
          9,
          9,
          9,
          8,
          8,
          8,
          8,
          8,
          7,
          7,
          7,
          7,
          7,
          7,
          7,
          7,
          7,
          7,
          6,
          6,
          6,
          6,
          6,
          5,
          5,
          5,
          5,
          5,
          5,
          5,
          5,
          5,
          5,
          5,
          5,
          5,
          4,
          4,
          4,
          4,
          4,
          4,
          4,
          4,
          4,
          4,
          4,
          3,
          3,
          3,
          3,
          3,
          3,
          3,
          3,
          3,
          3,
          3,
          3,
          3,
          3,
          2,
          2,
          2,
          2,
          2,
          2,
          2,
          2,
          2,
          2,
          2,
          2,
          2,
          2,
          2,
          2,
          2,
          2,
          2,
          2,
          2,
          2,
          2,
          2,
          2,
          1,
          1,
          1,
          1,
          1,
          1,
          1,
          1,
          1,
          1,
          1,
          1,
          1,
          1,
          1,
          1,
          1,
          1,
          1,
          1,
          1,
          1,
          1,
          1,
          1,
          1,
          1,
          1,
          1,
          1,
          1,
          1,
          1,
          1,
          1,
          1,
          1,
          1,
          1,
          1,
          1,
          1,
          1
         ],
         "yaxis": "y"
        },
        {
         "alignmentgroup": "True",
         "hovertemplate": "<b>%{hovertext}</b><br><br>Region=North America<br>Restaurant=%{x}<br>Repeat Count=%{y}<extra></extra>",
         "hovertext": [
          "Le Bernardin",
          "The French Laundry",
          "Alinea",
          "Pujol",
          "Per Se",
          "Daniel",
          "Eleven Madison Park",
          "Quintonil",
          "Charlie Trotter's",
          "Chez Panisse",
          "Jean Georges",
          "Biko",
          "Blue Hill at Stone Barns",
          "Gramercy Tavern",
          "Momofuku Ssäm Bar",
          "Cosme",
          "Atomix",
          "Saison",
          "SingleThread",
          "Benu",
          "Eigensinn Farm",
          "Manresa",
          "WD~50",
          "Masa",
          "Atelier Crenn",
          "Estela",
          "Vincent Guerithault on Camelback",
          "Susar",
          "Bayona",
          "Ginza Sushiko",
          "Nepenthe",
          "Il Pescatore",
          "Little Washington",
          "Vong",
          "Tangerine",
          "Coi",
          "Spice Market",
          "Craft",
          "Balthazar",
          "Spago",
          "Rosetta"
         ],
         "legendgroup": "North America",
         "marker": {
          "color": "#EF553B",
          "pattern": {
           "shape": ""
          }
         },
         "name": "North America",
         "offsetgroup": "North America",
         "orientation": "v",
         "showlegend": true,
         "textposition": "auto",
         "type": "bar",
         "x": [
          "Le Bernardin",
          "The French Laundry",
          "Alinea",
          "Pujol",
          "Per Se",
          "Daniel",
          "Eleven Madison Park",
          "Quintonil",
          "Charlie Trotter's",
          "Chez Panisse",
          "Jean Georges",
          "Biko",
          "Blue Hill at Stone Barns",
          "Gramercy Tavern",
          "Momofuku Ssäm Bar",
          "Cosme",
          "Atomix",
          "Saison",
          "SingleThread",
          "Benu",
          "Eigensinn Farm",
          "Manresa",
          "WD~50",
          "Masa",
          "Atelier Crenn",
          "Estela",
          "Vincent Guerithault on Camelback",
          "Susar",
          "Bayona",
          "Ginza Sushiko",
          "Nepenthe",
          "Il Pescatore",
          "Little Washington",
          "Vong",
          "Tangerine",
          "Coi",
          "Spice Market",
          "Craft",
          "Balthazar",
          "Spago",
          "Rosetta"
         ],
         "xaxis": "x",
         "y": [
          17,
          13,
          13,
          12,
          11,
          11,
          9,
          8,
          7,
          7,
          7,
          6,
          5,
          5,
          4,
          4,
          3,
          3,
          2,
          2,
          2,
          2,
          2,
          2,
          2,
          1,
          1,
          1,
          1,
          1,
          1,
          1,
          1,
          1,
          1,
          1,
          1,
          1,
          1,
          1,
          1
         ],
         "yaxis": "y"
        },
        {
         "alignmentgroup": "True",
         "hovertemplate": "<b>%{hovertext}</b><br><br>Region=Asia<br>Restaurant=%{x}<br>Repeat Count=%{y}<extra></extra>",
         "hovertext": [
          "Narisawa",
          "Nahm",
          "Nihonryori Ryugin",
          "Amber",
          "Ultraviolet by Paul Pairet",
          "White Rabbit",
          "Gaggan",
          "Den",
          "Odette",
          "Restaurant André",
          "Bukhara",
          "Iggy's",
          "The Chairman",
          "Felix",
          "Florilège",
          "Al Mahara",
          "Sukiyabashi Jiro",
          "Waku Ghin",
          "Sühring",
          "Twins Garden",
          "Sézanne",
          "Burnt Ends",
          "Orfali Bros Bistro",
          "Sorn",
          "La Cime",
          "Trèsind Studio",
          "Le Du",
          "Mikla",
          "Gaggan Anand",
          "Changa",
          "The Spa",
          "Mr and Mrs Bund",
          "8 1/2 Otto e Mezzo Bombana",
          "Varvary",
          "Jaan Par Andre",
          "New York Grill"
         ],
         "legendgroup": "Asia",
         "marker": {
          "color": "#00cc96",
          "pattern": {
           "shape": ""
          }
         },
         "name": "Asia",
         "offsetgroup": "Asia",
         "orientation": "v",
         "showlegend": true,
         "textposition": "auto",
         "type": "bar",
         "x": [
          "Narisawa",
          "Nahm",
          "Nihonryori Ryugin",
          "Amber",
          "Ultraviolet by Paul Pairet",
          "White Rabbit",
          "Gaggan",
          "Den",
          "Odette",
          "Restaurant André",
          "Bukhara",
          "Iggy's",
          "The Chairman",
          "Felix",
          "Florilège",
          "Al Mahara",
          "Sukiyabashi Jiro",
          "Waku Ghin",
          "Sühring",
          "Twins Garden",
          "Sézanne",
          "Burnt Ends",
          "Orfali Bros Bistro",
          "Sorn",
          "La Cime",
          "Trèsind Studio",
          "Le Du",
          "Mikla",
          "Gaggan Anand",
          "Changa",
          "The Spa",
          "Mr and Mrs Bund",
          "8 1/2 Otto e Mezzo Bombana",
          "Varvary",
          "Jaan Par Andre",
          "New York Grill"
         ],
         "xaxis": "x",
         "y": [
          13,
          7,
          7,
          7,
          6,
          6,
          6,
          6,
          5,
          5,
          5,
          4,
          4,
          4,
          3,
          3,
          2,
          2,
          2,
          2,
          1,
          1,
          1,
          1,
          1,
          1,
          1,
          1,
          1,
          1,
          1,
          1,
          1,
          1,
          1,
          1
         ],
         "yaxis": "y"
        },
        {
         "alignmentgroup": "True",
         "hovertemplate": "<b>%{hovertext}</b><br><br>Region=South America<br>Restaurant=%{x}<br>Repeat Count=%{y}<extra></extra>",
         "hovertext": [
          "D.O.M.",
          "Central",
          "Astrid y Gastón",
          "Boragó",
          "Maido",
          "Don Julio",
          "A Casa do Porco",
          "Leo",
          "Maní",
          "1884",
          "Mayta",
          "El Chato",
          "Kjolle",
          "D.O.M",
          "Oteque",
          "Central ",
          "Tegui"
         ],
         "legendgroup": "South America",
         "marker": {
          "color": "#ab63fa",
          "pattern": {
           "shape": ""
          }
         },
         "name": "South America",
         "offsetgroup": "South America",
         "orientation": "v",
         "showlegend": true,
         "textposition": "auto",
         "type": "bar",
         "x": [
          "D.O.M.",
          "Central",
          "Astrid y Gastón",
          "Boragó",
          "Maido",
          "Don Julio",
          "A Casa do Porco",
          "Leo",
          "Maní",
          "1884",
          "Mayta",
          "El Chato",
          "Kjolle",
          "D.O.M",
          "Oteque",
          "Central ",
          "Tegui"
         ],
         "xaxis": "x",
         "y": [
          12,
          9,
          8,
          8,
          8,
          4,
          4,
          4,
          3,
          2,
          2,
          1,
          1,
          1,
          1,
          1,
          1
         ],
         "yaxis": "y"
        },
        {
         "alignmentgroup": "True",
         "hovertemplate": "<b>%{hovertext}</b><br><br>Region=Australia<br>Restaurant=%{x}<br>Repeat Count=%{y}<extra></extra>",
         "hovertext": [
          "Tetsuya's",
          "Rockpool",
          "Attica",
          "Quay",
          "Flower Drum",
          "Brae"
         ],
         "legendgroup": "Australia",
         "marker": {
          "color": "#FFA15A",
          "pattern": {
           "shape": ""
          }
         },
         "name": "Australia",
         "offsetgroup": "Australia",
         "orientation": "v",
         "showlegend": true,
         "textposition": "auto",
         "type": "bar",
         "x": [
          "Tetsuya's",
          "Rockpool",
          "Attica",
          "Quay",
          "Flower Drum",
          "Brae"
         ],
         "xaxis": "x",
         "y": [
          9,
          7,
          6,
          5,
          4,
          1
         ],
         "yaxis": "y"
        },
        {
         "alignmentgroup": "True",
         "hovertemplate": "<b>%{hovertext}</b><br><br>Region=Africa<br>Restaurant=%{x}<br>Repeat Count=%{y}<extra></extra>",
         "hovertext": [
          "Le Quartier Français",
          "The Test Kitchen",
          "La Colombe",
          "Carnivore",
          "Wolfgat",
          "Fyn",
          "Spoon des Iles",
          "Le Quartier Francais"
         ],
         "legendgroup": "Africa",
         "marker": {
          "color": "#19d3f3",
          "pattern": {
           "shape": ""
          }
         },
         "name": "Africa",
         "offsetgroup": "Africa",
         "orientation": "v",
         "showlegend": true,
         "textposition": "auto",
         "type": "bar",
         "x": [
          "Le Quartier Français",
          "The Test Kitchen",
          "La Colombe",
          "Carnivore",
          "Wolfgat",
          "Fyn",
          "Spoon des Iles",
          "Le Quartier Francais"
         ],
         "xaxis": "x",
         "y": [
          7,
          5,
          3,
          2,
          1,
          1,
          1,
          1
         ],
         "yaxis": "y"
        }
       ],
       "layout": {
        "barmode": "relative",
        "legend": {
         "title": {
          "text": "Region"
         },
         "tracegroupgap": 0
        },
        "template": {
         "data": {
          "bar": [
           {
            "error_x": {
             "color": "#2a3f5f"
            },
            "error_y": {
             "color": "#2a3f5f"
            },
            "marker": {
             "line": {
              "color": "#E5ECF6",
              "width": 0.5
             },
             "pattern": {
              "fillmode": "overlay",
              "size": 10,
              "solidity": 0.2
             }
            },
            "type": "bar"
           }
          ],
          "barpolar": [
           {
            "marker": {
             "line": {
              "color": "#E5ECF6",
              "width": 0.5
             },
             "pattern": {
              "fillmode": "overlay",
              "size": 10,
              "solidity": 0.2
             }
            },
            "type": "barpolar"
           }
          ],
          "carpet": [
           {
            "aaxis": {
             "endlinecolor": "#2a3f5f",
             "gridcolor": "white",
             "linecolor": "white",
             "minorgridcolor": "white",
             "startlinecolor": "#2a3f5f"
            },
            "baxis": {
             "endlinecolor": "#2a3f5f",
             "gridcolor": "white",
             "linecolor": "white",
             "minorgridcolor": "white",
             "startlinecolor": "#2a3f5f"
            },
            "type": "carpet"
           }
          ],
          "choropleth": [
           {
            "colorbar": {
             "outlinewidth": 0,
             "ticks": ""
            },
            "type": "choropleth"
           }
          ],
          "contour": [
           {
            "colorbar": {
             "outlinewidth": 0,
             "ticks": ""
            },
            "colorscale": [
             [
              0,
              "#0d0887"
             ],
             [
              0.1111111111111111,
              "#46039f"
             ],
             [
              0.2222222222222222,
              "#7201a8"
             ],
             [
              0.3333333333333333,
              "#9c179e"
             ],
             [
              0.4444444444444444,
              "#bd3786"
             ],
             [
              0.5555555555555556,
              "#d8576b"
             ],
             [
              0.6666666666666666,
              "#ed7953"
             ],
             [
              0.7777777777777778,
              "#fb9f3a"
             ],
             [
              0.8888888888888888,
              "#fdca26"
             ],
             [
              1,
              "#f0f921"
             ]
            ],
            "type": "contour"
           }
          ],
          "contourcarpet": [
           {
            "colorbar": {
             "outlinewidth": 0,
             "ticks": ""
            },
            "type": "contourcarpet"
           }
          ],
          "heatmap": [
           {
            "colorbar": {
             "outlinewidth": 0,
             "ticks": ""
            },
            "colorscale": [
             [
              0,
              "#0d0887"
             ],
             [
              0.1111111111111111,
              "#46039f"
             ],
             [
              0.2222222222222222,
              "#7201a8"
             ],
             [
              0.3333333333333333,
              "#9c179e"
             ],
             [
              0.4444444444444444,
              "#bd3786"
             ],
             [
              0.5555555555555556,
              "#d8576b"
             ],
             [
              0.6666666666666666,
              "#ed7953"
             ],
             [
              0.7777777777777778,
              "#fb9f3a"
             ],
             [
              0.8888888888888888,
              "#fdca26"
             ],
             [
              1,
              "#f0f921"
             ]
            ],
            "type": "heatmap"
           }
          ],
          "heatmapgl": [
           {
            "colorbar": {
             "outlinewidth": 0,
             "ticks": ""
            },
            "colorscale": [
             [
              0,
              "#0d0887"
             ],
             [
              0.1111111111111111,
              "#46039f"
             ],
             [
              0.2222222222222222,
              "#7201a8"
             ],
             [
              0.3333333333333333,
              "#9c179e"
             ],
             [
              0.4444444444444444,
              "#bd3786"
             ],
             [
              0.5555555555555556,
              "#d8576b"
             ],
             [
              0.6666666666666666,
              "#ed7953"
             ],
             [
              0.7777777777777778,
              "#fb9f3a"
             ],
             [
              0.8888888888888888,
              "#fdca26"
             ],
             [
              1,
              "#f0f921"
             ]
            ],
            "type": "heatmapgl"
           }
          ],
          "histogram": [
           {
            "marker": {
             "pattern": {
              "fillmode": "overlay",
              "size": 10,
              "solidity": 0.2
             }
            },
            "type": "histogram"
           }
          ],
          "histogram2d": [
           {
            "colorbar": {
             "outlinewidth": 0,
             "ticks": ""
            },
            "colorscale": [
             [
              0,
              "#0d0887"
             ],
             [
              0.1111111111111111,
              "#46039f"
             ],
             [
              0.2222222222222222,
              "#7201a8"
             ],
             [
              0.3333333333333333,
              "#9c179e"
             ],
             [
              0.4444444444444444,
              "#bd3786"
             ],
             [
              0.5555555555555556,
              "#d8576b"
             ],
             [
              0.6666666666666666,
              "#ed7953"
             ],
             [
              0.7777777777777778,
              "#fb9f3a"
             ],
             [
              0.8888888888888888,
              "#fdca26"
             ],
             [
              1,
              "#f0f921"
             ]
            ],
            "type": "histogram2d"
           }
          ],
          "histogram2dcontour": [
           {
            "colorbar": {
             "outlinewidth": 0,
             "ticks": ""
            },
            "colorscale": [
             [
              0,
              "#0d0887"
             ],
             [
              0.1111111111111111,
              "#46039f"
             ],
             [
              0.2222222222222222,
              "#7201a8"
             ],
             [
              0.3333333333333333,
              "#9c179e"
             ],
             [
              0.4444444444444444,
              "#bd3786"
             ],
             [
              0.5555555555555556,
              "#d8576b"
             ],
             [
              0.6666666666666666,
              "#ed7953"
             ],
             [
              0.7777777777777778,
              "#fb9f3a"
             ],
             [
              0.8888888888888888,
              "#fdca26"
             ],
             [
              1,
              "#f0f921"
             ]
            ],
            "type": "histogram2dcontour"
           }
          ],
          "mesh3d": [
           {
            "colorbar": {
             "outlinewidth": 0,
             "ticks": ""
            },
            "type": "mesh3d"
           }
          ],
          "parcoords": [
           {
            "line": {
             "colorbar": {
              "outlinewidth": 0,
              "ticks": ""
             }
            },
            "type": "parcoords"
           }
          ],
          "pie": [
           {
            "automargin": true,
            "type": "pie"
           }
          ],
          "scatter": [
           {
            "fillpattern": {
             "fillmode": "overlay",
             "size": 10,
             "solidity": 0.2
            },
            "type": "scatter"
           }
          ],
          "scatter3d": [
           {
            "line": {
             "colorbar": {
              "outlinewidth": 0,
              "ticks": ""
             }
            },
            "marker": {
             "colorbar": {
              "outlinewidth": 0,
              "ticks": ""
             }
            },
            "type": "scatter3d"
           }
          ],
          "scattercarpet": [
           {
            "marker": {
             "colorbar": {
              "outlinewidth": 0,
              "ticks": ""
             }
            },
            "type": "scattercarpet"
           }
          ],
          "scattergeo": [
           {
            "marker": {
             "colorbar": {
              "outlinewidth": 0,
              "ticks": ""
             }
            },
            "type": "scattergeo"
           }
          ],
          "scattergl": [
           {
            "marker": {
             "colorbar": {
              "outlinewidth": 0,
              "ticks": ""
             }
            },
            "type": "scattergl"
           }
          ],
          "scattermapbox": [
           {
            "marker": {
             "colorbar": {
              "outlinewidth": 0,
              "ticks": ""
             }
            },
            "type": "scattermapbox"
           }
          ],
          "scatterpolar": [
           {
            "marker": {
             "colorbar": {
              "outlinewidth": 0,
              "ticks": ""
             }
            },
            "type": "scatterpolar"
           }
          ],
          "scatterpolargl": [
           {
            "marker": {
             "colorbar": {
              "outlinewidth": 0,
              "ticks": ""
             }
            },
            "type": "scatterpolargl"
           }
          ],
          "scatterternary": [
           {
            "marker": {
             "colorbar": {
              "outlinewidth": 0,
              "ticks": ""
             }
            },
            "type": "scatterternary"
           }
          ],
          "surface": [
           {
            "colorbar": {
             "outlinewidth": 0,
             "ticks": ""
            },
            "colorscale": [
             [
              0,
              "#0d0887"
             ],
             [
              0.1111111111111111,
              "#46039f"
             ],
             [
              0.2222222222222222,
              "#7201a8"
             ],
             [
              0.3333333333333333,
              "#9c179e"
             ],
             [
              0.4444444444444444,
              "#bd3786"
             ],
             [
              0.5555555555555556,
              "#d8576b"
             ],
             [
              0.6666666666666666,
              "#ed7953"
             ],
             [
              0.7777777777777778,
              "#fb9f3a"
             ],
             [
              0.8888888888888888,
              "#fdca26"
             ],
             [
              1,
              "#f0f921"
             ]
            ],
            "type": "surface"
           }
          ],
          "table": [
           {
            "cells": {
             "fill": {
              "color": "#EBF0F8"
             },
             "line": {
              "color": "white"
             }
            },
            "header": {
             "fill": {
              "color": "#C8D4E3"
             },
             "line": {
              "color": "white"
             }
            },
            "type": "table"
           }
          ]
         },
         "layout": {
          "annotationdefaults": {
           "arrowcolor": "#2a3f5f",
           "arrowhead": 0,
           "arrowwidth": 1
          },
          "autotypenumbers": "strict",
          "coloraxis": {
           "colorbar": {
            "outlinewidth": 0,
            "ticks": ""
           }
          },
          "colorscale": {
           "diverging": [
            [
             0,
             "#8e0152"
            ],
            [
             0.1,
             "#c51b7d"
            ],
            [
             0.2,
             "#de77ae"
            ],
            [
             0.3,
             "#f1b6da"
            ],
            [
             0.4,
             "#fde0ef"
            ],
            [
             0.5,
             "#f7f7f7"
            ],
            [
             0.6,
             "#e6f5d0"
            ],
            [
             0.7,
             "#b8e186"
            ],
            [
             0.8,
             "#7fbc41"
            ],
            [
             0.9,
             "#4d9221"
            ],
            [
             1,
             "#276419"
            ]
           ],
           "sequential": [
            [
             0,
             "#0d0887"
            ],
            [
             0.1111111111111111,
             "#46039f"
            ],
            [
             0.2222222222222222,
             "#7201a8"
            ],
            [
             0.3333333333333333,
             "#9c179e"
            ],
            [
             0.4444444444444444,
             "#bd3786"
            ],
            [
             0.5555555555555556,
             "#d8576b"
            ],
            [
             0.6666666666666666,
             "#ed7953"
            ],
            [
             0.7777777777777778,
             "#fb9f3a"
            ],
            [
             0.8888888888888888,
             "#fdca26"
            ],
            [
             1,
             "#f0f921"
            ]
           ],
           "sequentialminus": [
            [
             0,
             "#0d0887"
            ],
            [
             0.1111111111111111,
             "#46039f"
            ],
            [
             0.2222222222222222,
             "#7201a8"
            ],
            [
             0.3333333333333333,
             "#9c179e"
            ],
            [
             0.4444444444444444,
             "#bd3786"
            ],
            [
             0.5555555555555556,
             "#d8576b"
            ],
            [
             0.6666666666666666,
             "#ed7953"
            ],
            [
             0.7777777777777778,
             "#fb9f3a"
            ],
            [
             0.8888888888888888,
             "#fdca26"
            ],
            [
             1,
             "#f0f921"
            ]
           ]
          },
          "colorway": [
           "#636efa",
           "#EF553B",
           "#00cc96",
           "#ab63fa",
           "#FFA15A",
           "#19d3f3",
           "#FF6692",
           "#B6E880",
           "#FF97FF",
           "#FECB52"
          ],
          "font": {
           "color": "#2a3f5f"
          },
          "geo": {
           "bgcolor": "white",
           "lakecolor": "white",
           "landcolor": "#E5ECF6",
           "showlakes": true,
           "showland": true,
           "subunitcolor": "white"
          },
          "hoverlabel": {
           "align": "left"
          },
          "hovermode": "closest",
          "mapbox": {
           "style": "light"
          },
          "paper_bgcolor": "white",
          "plot_bgcolor": "#E5ECF6",
          "polar": {
           "angularaxis": {
            "gridcolor": "white",
            "linecolor": "white",
            "ticks": ""
           },
           "bgcolor": "#E5ECF6",
           "radialaxis": {
            "gridcolor": "white",
            "linecolor": "white",
            "ticks": ""
           }
          },
          "scene": {
           "xaxis": {
            "backgroundcolor": "#E5ECF6",
            "gridcolor": "white",
            "gridwidth": 2,
            "linecolor": "white",
            "showbackground": true,
            "ticks": "",
            "zerolinecolor": "white"
           },
           "yaxis": {
            "backgroundcolor": "#E5ECF6",
            "gridcolor": "white",
            "gridwidth": 2,
            "linecolor": "white",
            "showbackground": true,
            "ticks": "",
            "zerolinecolor": "white"
           },
           "zaxis": {
            "backgroundcolor": "#E5ECF6",
            "gridcolor": "white",
            "gridwidth": 2,
            "linecolor": "white",
            "showbackground": true,
            "ticks": "",
            "zerolinecolor": "white"
           }
          },
          "shapedefaults": {
           "line": {
            "color": "#2a3f5f"
           }
          },
          "ternary": {
           "aaxis": {
            "gridcolor": "white",
            "linecolor": "white",
            "ticks": ""
           },
           "baxis": {
            "gridcolor": "white",
            "linecolor": "white",
            "ticks": ""
           },
           "bgcolor": "#E5ECF6",
           "caxis": {
            "gridcolor": "white",
            "linecolor": "white",
            "ticks": ""
           }
          },
          "title": {
           "x": 0.05
          },
          "xaxis": {
           "automargin": true,
           "gridcolor": "white",
           "linecolor": "white",
           "ticks": "",
           "title": {
            "standoff": 15
           },
           "zerolinecolor": "white",
           "zerolinewidth": 2
          },
          "yaxis": {
           "automargin": true,
           "gridcolor": "white",
           "linecolor": "white",
           "ticks": "",
           "title": {
            "standoff": 15
           },
           "zerolinecolor": "white",
           "zerolinewidth": 2
          }
         }
        },
        "title": {
         "text": "Restaurant Repeat Ranking by Region"
        },
        "xaxis": {
         "anchor": "y",
         "domain": [
          0,
          1
         ],
         "title": {
          "text": "Restaurant"
         }
        },
        "yaxis": {
         "anchor": "x",
         "domain": [
          0,
          1
         ],
         "title": {
          "text": "Repeat Count"
         }
        }
       }
      }
     },
     "metadata": {},
     "output_type": "display_data"
    }
   ],
   "source": [
    "fig = px.bar(\n",
    "    merged,\n",
    "    x='restaurant',\n",
    "    y='count',\n",
    "    color='Region',\n",
    "    title='Restaurant Repeat Ranking by Region',\n",
    "    labels={'restaurant': 'Restaurant', 'count': 'Repeat Count'},\n",
    "    hover_name='restaurant'\n",
    ")\n",
    "\n",
    "# Show the interactive plot\n",
    "fig.write_html('restaurant_repeat_ranking.html')\n",
    "fig.show()"
   ]
  }
 ],
 "metadata": {
  "kernelspec": {
   "display_name": "dev",
   "language": "python",
   "name": "python3"
  },
  "language_info": {
   "codemirror_mode": {
    "name": "ipython",
    "version": 3
   },
   "file_extension": ".py",
   "mimetype": "text/x-python",
   "name": "python",
   "nbconvert_exporter": "python",
   "pygments_lexer": "ipython3",
   "version": "3.12.4"
  }
 },
 "nbformat": 4,
 "nbformat_minor": 2
}
